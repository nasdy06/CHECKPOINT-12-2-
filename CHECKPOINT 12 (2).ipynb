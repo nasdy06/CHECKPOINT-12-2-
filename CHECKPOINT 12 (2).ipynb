{
 "cells": [
  {
   "cell_type": "code",
   "execution_count": 3,
   "id": "e483933e",
   "metadata": {},
   "outputs": [
    {
     "name": "stdout",
     "output_type": "stream",
     "text": [
      "Duree du compte a rebours : 10\n",
      "Fire in the hole\n"
     ]
    }
   ],
   "source": [
    "import time\n",
    "t=int(input(\"Duree du compte a rebours : \"))\n",
    "def countdown(t):\n",
    "    while t>0:\n",
    "        m,s=divmod(t,60)\n",
    "        print(\"{:02d}:{:02d}\".format(m,s),end='\\r')\n",
    "        time.sleep(1)\n",
    "        t-=1\n",
    "    print(\"Fire in the hole\")\n",
    "countdown(t)\n",
    "    "
   ]
  },
  {
   "cell_type": "code",
   "execution_count": null,
   "id": "64af50b3",
   "metadata": {},
   "outputs": [],
   "source": []
  }
 ],
 "metadata": {
  "kernelspec": {
   "display_name": "Python 3 (ipykernel)",
   "language": "python",
   "name": "python3"
  },
  "language_info": {
   "codemirror_mode": {
    "name": "ipython",
    "version": 3
   },
   "file_extension": ".py",
   "mimetype": "text/x-python",
   "name": "python",
   "nbconvert_exporter": "python",
   "pygments_lexer": "ipython3",
   "version": "3.9.12"
  }
 },
 "nbformat": 4,
 "nbformat_minor": 5
}
